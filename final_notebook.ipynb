{
 "cells": [
  {
   "cell_type": "markdown",
   "id": "2462cef6-c17c-4517-b553-4b3dd52e9b5e",
   "metadata": {},
   "source": [
    "## Project Overview\n",
    "Go through the DS pipeline and create a model that will predict whether a customer will stay or churn based off drivers."
   ]
  },
  {
   "cell_type": "markdown",
   "id": "c93e121d-7fab-4206-83a8-d7d340dc0262",
   "metadata": {},
   "source": [
    "## Project Goal\n",
    "- Find drivers for customer churn at Telco.\n",
    "\n",
    "- Construct a ML classification model that accurately predicts customer churn.\n",
    "\n",
    "- The goal is to have a model perform better than the baseline one, and optimize recall."
   ]
  },
  {
   "cell_type": "code",
   "execution_count": 1,
   "id": "131d4ac0-627d-4f5b-a335-8e8c4275bed0",
   "metadata": {},
   "outputs": [],
   "source": [
    "#Essential import \n",
    "import pandas as pd\n",
    "import numpy as np\n",
    "import seaborn as sns\n",
    "import scipy.stats as stats\n",
    "import matplotlib.pyplot as plt\n",
    "\n",
    "#Turn off warning \n",
    "import warnings\n",
    "warnings.filterwarnings(\"ignore\")\n",
    "\n",
    "#Import env file\n",
    "from env import user_name, password, host\n",
    "\n",
    "#Import functions from acquire, prepare, explore and model from directory\n",
    "import acquire\n",
    "import prepare\n",
    "import explore\n",
    "import modeling\n",
    "\n",
    "#Sklearn to help with machine learning \n",
    "from sklearn.model_selection import train_test_split\n",
    "from sklearn.ensemble import RandomForestClassifier\n",
    "from sklearn.metrics import confusion_matrix\n",
    "from sklearn.neighbors import KNeighborsClassifier\n",
    "from sklearn.linear_model import LogisticRegression\n",
    "from sklearn.tree import DecisionTreeClassifier, plot_tree, export_text\n",
    "from sklearn.dummy import DummyClassifier\n",
    "from sklearn.metrics import classification_report"
   ]
  },
  {
   "cell_type": "markdown",
   "id": "7ded6abe-056b-4bec-af42-b43d4f11205a",
   "metadata": {},
   "source": [
    "## Acquire Telco_Churn Data"
   ]
  },
  {
   "cell_type": "code",
   "execution_count": 2,
   "id": "2696b67d-8725-4a96-9702-99e96cec582b",
   "metadata": {},
   "outputs": [],
   "source": [
    "#This will get the function from acquire that is connect to the codeup database\n",
    "#First it will execute the SQL query, return a dataframe and then create a csv file in directory\n",
    "df = acquire.get_telco_data()"
   ]
  },
  {
   "cell_type": "code",
   "execution_count": 3,
   "id": "01e861b5-9f8d-4eae-a323-b782224a443e",
   "metadata": {},
   "outputs": [
    {
     "data": {
      "text/html": [
       "<div>\n",
       "<style scoped>\n",
       "    .dataframe tbody tr th:only-of-type {\n",
       "        vertical-align: middle;\n",
       "    }\n",
       "\n",
       "    .dataframe tbody tr th {\n",
       "        vertical-align: top;\n",
       "    }\n",
       "\n",
       "    .dataframe thead th {\n",
       "        text-align: right;\n",
       "    }\n",
       "</style>\n",
       "<table border=\"1\" class=\"dataframe\">\n",
       "  <thead>\n",
       "    <tr style=\"text-align: right;\">\n",
       "      <th></th>\n",
       "      <th>customer_id</th>\n",
       "      <th>gender</th>\n",
       "      <th>senior_citizen</th>\n",
       "      <th>partner</th>\n",
       "      <th>dependents</th>\n",
       "      <th>tenure</th>\n",
       "      <th>phone_service</th>\n",
       "      <th>multiple_lines</th>\n",
       "      <th>internet_service_type_id</th>\n",
       "      <th>online_security</th>\n",
       "      <th>online_backup</th>\n",
       "      <th>device_protection</th>\n",
       "      <th>tech_support</th>\n",
       "      <th>streaming_tv</th>\n",
       "      <th>streaming_movies</th>\n",
       "      <th>contract_type_id</th>\n",
       "      <th>paperless_billing</th>\n",
       "      <th>payment_type_id</th>\n",
       "      <th>monthly_charges</th>\n",
       "      <th>total_charges</th>\n",
       "      <th>churn</th>\n",
       "      <th>contract_type_id.1</th>\n",
       "      <th>contract_type</th>\n",
       "      <th>payment_type_id.1</th>\n",
       "      <th>payment_type</th>\n",
       "      <th>internet_service_type_id.1</th>\n",
       "      <th>internet_service_type</th>\n",
       "    </tr>\n",
       "  </thead>\n",
       "  <tbody>\n",
       "    <tr>\n",
       "      <th>0</th>\n",
       "      <td>0002-ORFBO</td>\n",
       "      <td>Female</td>\n",
       "      <td>0</td>\n",
       "      <td>Yes</td>\n",
       "      <td>Yes</td>\n",
       "      <td>9</td>\n",
       "      <td>Yes</td>\n",
       "      <td>No</td>\n",
       "      <td>1</td>\n",
       "      <td>No</td>\n",
       "      <td>Yes</td>\n",
       "      <td>No</td>\n",
       "      <td>Yes</td>\n",
       "      <td>Yes</td>\n",
       "      <td>No</td>\n",
       "      <td>2</td>\n",
       "      <td>Yes</td>\n",
       "      <td>2</td>\n",
       "      <td>65.6</td>\n",
       "      <td>593.3</td>\n",
       "      <td>No</td>\n",
       "      <td>2</td>\n",
       "      <td>One year</td>\n",
       "      <td>2</td>\n",
       "      <td>Mailed check</td>\n",
       "      <td>1</td>\n",
       "      <td>DSL</td>\n",
       "    </tr>\n",
       "    <tr>\n",
       "      <th>1</th>\n",
       "      <td>0003-MKNFE</td>\n",
       "      <td>Male</td>\n",
       "      <td>0</td>\n",
       "      <td>No</td>\n",
       "      <td>No</td>\n",
       "      <td>9</td>\n",
       "      <td>Yes</td>\n",
       "      <td>Yes</td>\n",
       "      <td>1</td>\n",
       "      <td>No</td>\n",
       "      <td>No</td>\n",
       "      <td>No</td>\n",
       "      <td>No</td>\n",
       "      <td>No</td>\n",
       "      <td>Yes</td>\n",
       "      <td>1</td>\n",
       "      <td>No</td>\n",
       "      <td>2</td>\n",
       "      <td>59.9</td>\n",
       "      <td>542.4</td>\n",
       "      <td>No</td>\n",
       "      <td>1</td>\n",
       "      <td>Month-to-month</td>\n",
       "      <td>2</td>\n",
       "      <td>Mailed check</td>\n",
       "      <td>1</td>\n",
       "      <td>DSL</td>\n",
       "    </tr>\n",
       "    <tr>\n",
       "      <th>2</th>\n",
       "      <td>0004-TLHLJ</td>\n",
       "      <td>Male</td>\n",
       "      <td>0</td>\n",
       "      <td>No</td>\n",
       "      <td>No</td>\n",
       "      <td>4</td>\n",
       "      <td>Yes</td>\n",
       "      <td>No</td>\n",
       "      <td>2</td>\n",
       "      <td>No</td>\n",
       "      <td>No</td>\n",
       "      <td>Yes</td>\n",
       "      <td>No</td>\n",
       "      <td>No</td>\n",
       "      <td>No</td>\n",
       "      <td>1</td>\n",
       "      <td>Yes</td>\n",
       "      <td>1</td>\n",
       "      <td>73.9</td>\n",
       "      <td>280.85</td>\n",
       "      <td>Yes</td>\n",
       "      <td>1</td>\n",
       "      <td>Month-to-month</td>\n",
       "      <td>1</td>\n",
       "      <td>Electronic check</td>\n",
       "      <td>2</td>\n",
       "      <td>Fiber optic</td>\n",
       "    </tr>\n",
       "    <tr>\n",
       "      <th>3</th>\n",
       "      <td>0011-IGKFF</td>\n",
       "      <td>Male</td>\n",
       "      <td>1</td>\n",
       "      <td>Yes</td>\n",
       "      <td>No</td>\n",
       "      <td>13</td>\n",
       "      <td>Yes</td>\n",
       "      <td>No</td>\n",
       "      <td>2</td>\n",
       "      <td>No</td>\n",
       "      <td>Yes</td>\n",
       "      <td>Yes</td>\n",
       "      <td>No</td>\n",
       "      <td>Yes</td>\n",
       "      <td>Yes</td>\n",
       "      <td>1</td>\n",
       "      <td>Yes</td>\n",
       "      <td>1</td>\n",
       "      <td>98.0</td>\n",
       "      <td>1237.85</td>\n",
       "      <td>Yes</td>\n",
       "      <td>1</td>\n",
       "      <td>Month-to-month</td>\n",
       "      <td>1</td>\n",
       "      <td>Electronic check</td>\n",
       "      <td>2</td>\n",
       "      <td>Fiber optic</td>\n",
       "    </tr>\n",
       "    <tr>\n",
       "      <th>4</th>\n",
       "      <td>0013-EXCHZ</td>\n",
       "      <td>Female</td>\n",
       "      <td>1</td>\n",
       "      <td>Yes</td>\n",
       "      <td>No</td>\n",
       "      <td>3</td>\n",
       "      <td>Yes</td>\n",
       "      <td>No</td>\n",
       "      <td>2</td>\n",
       "      <td>No</td>\n",
       "      <td>No</td>\n",
       "      <td>No</td>\n",
       "      <td>Yes</td>\n",
       "      <td>Yes</td>\n",
       "      <td>No</td>\n",
       "      <td>1</td>\n",
       "      <td>Yes</td>\n",
       "      <td>2</td>\n",
       "      <td>83.9</td>\n",
       "      <td>267.4</td>\n",
       "      <td>Yes</td>\n",
       "      <td>1</td>\n",
       "      <td>Month-to-month</td>\n",
       "      <td>2</td>\n",
       "      <td>Mailed check</td>\n",
       "      <td>2</td>\n",
       "      <td>Fiber optic</td>\n",
       "    </tr>\n",
       "  </tbody>\n",
       "</table>\n",
       "</div>"
      ],
      "text/plain": [
       "  customer_id  gender  senior_citizen partner dependents  tenure  \\\n",
       "0  0002-ORFBO  Female               0     Yes        Yes       9   \n",
       "1  0003-MKNFE    Male               0      No         No       9   \n",
       "2  0004-TLHLJ    Male               0      No         No       4   \n",
       "3  0011-IGKFF    Male               1     Yes         No      13   \n",
       "4  0013-EXCHZ  Female               1     Yes         No       3   \n",
       "\n",
       "  phone_service multiple_lines  internet_service_type_id online_security  \\\n",
       "0           Yes             No                         1              No   \n",
       "1           Yes            Yes                         1              No   \n",
       "2           Yes             No                         2              No   \n",
       "3           Yes             No                         2              No   \n",
       "4           Yes             No                         2              No   \n",
       "\n",
       "  online_backup device_protection tech_support streaming_tv streaming_movies  \\\n",
       "0           Yes                No          Yes          Yes               No   \n",
       "1            No                No           No           No              Yes   \n",
       "2            No               Yes           No           No               No   \n",
       "3           Yes               Yes           No          Yes              Yes   \n",
       "4            No                No          Yes          Yes               No   \n",
       "\n",
       "   contract_type_id paperless_billing  payment_type_id  monthly_charges  \\\n",
       "0                 2               Yes                2             65.6   \n",
       "1                 1                No                2             59.9   \n",
       "2                 1               Yes                1             73.9   \n",
       "3                 1               Yes                1             98.0   \n",
       "4                 1               Yes                2             83.9   \n",
       "\n",
       "  total_charges churn  contract_type_id.1   contract_type  payment_type_id.1  \\\n",
       "0         593.3    No                   2        One year                  2   \n",
       "1         542.4    No                   1  Month-to-month                  2   \n",
       "2        280.85   Yes                   1  Month-to-month                  1   \n",
       "3       1237.85   Yes                   1  Month-to-month                  1   \n",
       "4         267.4   Yes                   1  Month-to-month                  2   \n",
       "\n",
       "       payment_type  internet_service_type_id.1 internet_service_type  \n",
       "0      Mailed check                           1                   DSL  \n",
       "1      Mailed check                           1                   DSL  \n",
       "2  Electronic check                           2           Fiber optic  \n",
       "3  Electronic check                           2           Fiber optic  \n",
       "4      Mailed check                           2           Fiber optic  "
      ]
     },
     "execution_count": 3,
     "metadata": {},
     "output_type": "execute_result"
    }
   ],
   "source": [
    "#Checking the function if working properly and return correct data\n",
    "df.head()"
   ]
  },
  {
   "cell_type": "code",
   "execution_count": 4,
   "id": "8f36cce2-e408-480b-b0b6-f5d29d0436e7",
   "metadata": {},
   "outputs": [
    {
     "name": "stdout",
     "output_type": "stream",
     "text": [
      "<class 'pandas.core.frame.DataFrame'>\n",
      "Int64Index: 7043 entries, 0 to 7042\n",
      "Data columns (total 27 columns):\n",
      " #   Column                      Non-Null Count  Dtype  \n",
      "---  ------                      --------------  -----  \n",
      " 0   customer_id                 7043 non-null   object \n",
      " 1   gender                      7043 non-null   object \n",
      " 2   senior_citizen              7043 non-null   int64  \n",
      " 3   partner                     7043 non-null   object \n",
      " 4   dependents                  7043 non-null   object \n",
      " 5   tenure                      7043 non-null   int64  \n",
      " 6   phone_service               7043 non-null   object \n",
      " 7   multiple_lines              7043 non-null   object \n",
      " 8   internet_service_type_id    7043 non-null   int64  \n",
      " 9   online_security             7043 non-null   object \n",
      " 10  online_backup               7043 non-null   object \n",
      " 11  device_protection           7043 non-null   object \n",
      " 12  tech_support                7043 non-null   object \n",
      " 13  streaming_tv                7043 non-null   object \n",
      " 14  streaming_movies            7043 non-null   object \n",
      " 15  contract_type_id            7043 non-null   int64  \n",
      " 16  paperless_billing           7043 non-null   object \n",
      " 17  payment_type_id             7043 non-null   int64  \n",
      " 18  monthly_charges             7043 non-null   float64\n",
      " 19  total_charges               7043 non-null   object \n",
      " 20  churn                       7043 non-null   object \n",
      " 21  contract_type_id.1          7043 non-null   int64  \n",
      " 22  contract_type               7043 non-null   object \n",
      " 23  payment_type_id.1           7043 non-null   int64  \n",
      " 24  payment_type                7043 non-null   object \n",
      " 25  internet_service_type_id.1  7043 non-null   int64  \n",
      " 26  internet_service_type       7043 non-null   object \n",
      "dtypes: float64(1), int64(8), object(18)\n",
      "memory usage: 1.5+ MB\n"
     ]
    }
   ],
   "source": [
    "#Want to see the data type of each columns and how many rows and columns in the telco dataframe\n",
    "df.info()"
   ]
  },
  {
   "cell_type": "markdown",
   "id": "fd9b9063-e8f9-435f-b88c-d4e4f72c9de5",
   "metadata": {},
   "source": [
    "## Prepare Telco_Churn Data"
   ]
  },
  {
   "cell_type": "code",
   "execution_count": 5,
   "id": "cdfccf08-9435-40eb-bfd5-fb5967c628bb",
   "metadata": {},
   "outputs": [],
   "source": [
    "df = prepare.clean_data(df)"
   ]
  },
  {
   "cell_type": "code",
   "execution_count": 6,
   "id": "ac0e16da-c529-45dc-8525-75635f342c43",
   "metadata": {},
   "outputs": [],
   "source": [
    "train, validate, test = prepare.split_data(df)"
   ]
  },
  {
   "cell_type": "code",
   "execution_count": 7,
   "id": "7360c20c-82b7-47e6-8611-82baab97b1f4",
   "metadata": {},
   "outputs": [
    {
     "name": "stdout",
     "output_type": "stream",
     "text": [
      "train shape    : (3943, 28)\n",
      "validate shape : (1691, 28)\n",
      "test shape     : (1409, 28)\n"
     ]
    }
   ],
   "source": [
    "print('train shape    :',train.shape)\n",
    "print('validate shape :',validate.shape)\n",
    "print('test shape     :',test.shape)"
   ]
  },
  {
   "cell_type": "markdown",
   "id": "d4a7f8fb-ce00-426a-9403-fd3a6b0f5f34",
   "metadata": {},
   "source": [
    "## Data Exploration"
   ]
  },
  {
   "cell_type": "code",
   "execution_count": 8,
   "id": "4a222791-d6bd-4b1f-91a4-ee6b7c48c038",
   "metadata": {},
   "outputs": [
    {
     "data": {
      "image/png": "[encoded data removed]",
      "text/plain": [
       "<Figure size 432x576 with 1 Axes>"
      ]
     },
     "metadata": {
      "needs_background": "light"
     },
     "output_type": "display_data"
    }
   ],
   "source": [
    "#Calculate the overall churn rate and create a bar plot \n",
    "#Over churn rate is..\n",
    "explore.churn_bar(train)"
   ]
  },
  {
   "cell_type": "code",
   "execution_count": 9,
   "id": "24b67b1a-1220-4d1e-b142-c4143bcf4493",
   "metadata": {},
   "outputs": [
    {
     "data": {
      "text/plain": [
       "<AxesSubplot:title={'center':'Feautures Correlating with Churn'}>"
      ]
     },
     "execution_count": 9,
     "metadata": {},
     "output_type": "execute_result"
    },
    {
     "data": {
      "image/png": "[encoded data removed]",
      "text/plain": [
       "<Figure size 576x864 with 2 Axes>"
      ]
     },
     "metadata": {
      "needs_background": "light"
     },
     "output_type": "display_data"
    }
   ],
   "source": [
    "#Heatmap will tell us each feature is releated to churn\n",
    "explore.get_churn_heatmap(df)"
   ]
  },
  {
   "cell_type": "markdown",
   "id": "53b2d5dd-e5a8-47fb-a61c-16eee280b272",
   "metadata": {},
   "source": [
    "#### Observation:\n",
    "- Positive correlation are the top of heatmap:\n",
    "  - Month to month( .41)\n",
    "  - Fiber optic (.31)\n",
    "  - Elctronic check (.30)\n",
    "  - Paperless billing (.19)\n",
    "<br>\n",
    "- Negative correlation are the bottom of heatmap:\n",
    "   - No internet service (-.23)\n",
    "   - Two years contract (-.30)\n",
    "   - Tenure (-.35)"
   ]
  },
  {
   "cell_type": "code",
   "execution_count": 10,
   "id": "7d2a28eb-023d-4220-a75a-16f59c40963c",
   "metadata": {},
   "outputs": [
    {
     "data": {
      "image/png": "[encoded data removed]",
      "text/plain": [
       "<Figure size 1152x432 with 3 Axes>"
      ]
     },
     "metadata": {
      "needs_background": "light"
     },
     "output_type": "display_data"
    }
   ],
   "source": [
    "#We plot features have high correlation with churn\n",
    "features = ['electronic_check','fiber_optic','paperless_billing']\n",
    "explore.bar_plot(features, train)"
   ]
  },
  {
   "cell_type": "code",
   "execution_count": 11,
   "id": "5dbfef86-436f-4aa8-9370-2777cffea9ef",
   "metadata": {},
   "outputs": [
    {
     "data": {
      "image/png": "[encoded data removed]",
      "text/plain": [
       "<Figure size 1152x432 with 3 Axes>"
      ]
     },
     "metadata": {
      "needs_background": "light"
     },
     "output_type": "display_data"
    }
   ],
   "source": [
    "#Same as above\n",
    "features = ['contract_type_One year','contract_type_Two year','month_to_month']\n",
    "explore.bar_plot(features, train)"
   ]
  },
  {
   "cell_type": "markdown",
   "id": "41bb3915-8a93-4ded-a6bf-3dfcc729d9d6",
   "metadata": {},
   "source": [
    "#### Take away:\n",
    "- For those who churn, most come from the month to month contract\n",
    "- Electronic check and paperless billing customers ttend to comprise for half of the churn in all payment type\n",
    "- Customers who use fiber optic churn more frequently than those with dsl"
   ]
  },
  {
   "cell_type": "code",
   "execution_count": 12,
   "id": "d0e1c763-d3eb-4797-b3dd-5ead25ce4f95",
   "metadata": {},
   "outputs": [
    {
     "name": "stdout",
     "output_type": "stream",
     "text": [
      "\n",
      "** FIRST 1 MONTHS OF TENURE AND CHURN** \n",
      "\n",
      "Total customer in the first month: 341\n",
      "Total customer cancellations in the first month: 212\n",
      "\n",
      "Churn rate in the first month of Tenure: 62.17%\n",
      "Paperless_billing:                       66.51%\n",
      "Electronic_check payment type :          57.08% \n",
      "Fiber_optic:                             53.30%\n",
      "\n",
      "Overall Churn Rate: 26.53%\n"
     ]
    }
   ],
   "source": [
    "#Checking the first month of tenure since it has the high churn rate\n",
    "explore.report_tenure(train, 1)"
   ]
  },
  {
   "cell_type": "code",
   "execution_count": 13,
   "id": "e7f4f6db-7288-4a6a-a7a6-8f6a9b9fc44e",
   "metadata": {},
   "outputs": [
    {
     "data": {
      "image/png": "[encoded data removed]",
      "text/plain": [
       "<Figure size 360x360 with 1 Axes>"
      ]
     },
     "metadata": {
      "needs_background": "light"
     },
     "output_type": "display_data"
    }
   ],
   "source": [
    "#We select driver(tenure)\n",
    "explore.plot_tenure(train,'tenure')"
   ]
  },
  {
   "cell_type": "markdown",
   "id": "cf0e0877-0975-408d-ae1d-03bd50dfa688",
   "metadata": {},
   "source": [
    "#### Take away: \n",
    "- Most customers who churn have first month of tenure and it gradually decrease as cutomer have logner tenure\n",
    "- Churn is 62.17% in the first month of tenure. And all the cancellation in the first month are month to month contract: 66.51% paperless_billing, 57.08% electronic_check, and 53.08% fiber_optic"
   ]
  },
  {
   "cell_type": "markdown",
   "id": "89c2c21a-f646-429d-bf40-a4929926c8c0",
   "metadata": {},
   "source": [
    "## Performance Statistic Test"
   ]
  },
  {
   "cell_type": "markdown",
   "id": "c1e757e6-2560-45a3-9eb4-47dfbe28aad4",
   "metadata": {},
   "source": [
    "#### Month to month contracts"
   ]
  },
  {
   "cell_type": "markdown",
   "id": "942a9cbd-7c4f-48a1-b9b5-bdd71e84f40b",
   "metadata": {},
   "source": [
    "$H_o$: Monthly Contract and churn are independent of each other\n",
    "\n",
    "$H_a$: Monthly Contract and churn are not independent of each other"
   ]
  },
  {
   "cell_type": "code",
   "execution_count": 14,
   "id": "1de8a997-4e07-4e8e-9c07-2474a45f60ff",
   "metadata": {},
   "outputs": [
    {
     "data": {
      "text/html": [
       "<div>\n",
       "<style scoped>\n",
       "    .dataframe tbody tr th:only-of-type {\n",
       "        vertical-align: middle;\n",
       "    }\n",
       "\n",
       "    .dataframe tbody tr th {\n",
       "        vertical-align: top;\n",
       "    }\n",
       "\n",
       "    .dataframe thead th {\n",
       "        text-align: right;\n",
       "    }\n",
       "</style>\n",
       "<table border=\"1\" class=\"dataframe\">\n",
       "  <thead>\n",
       "    <tr style=\"text-align: right;\">\n",
       "      <th>churn_Yes</th>\n",
       "      <th>0</th>\n",
       "      <th>1</th>\n",
       "    </tr>\n",
       "    <tr>\n",
       "      <th>month_to_month</th>\n",
       "      <th></th>\n",
       "      <th></th>\n",
       "    </tr>\n",
       "  </thead>\n",
       "  <tbody>\n",
       "    <tr>\n",
       "      <th>0</th>\n",
       "      <td>1648</td>\n",
       "      <td>125</td>\n",
       "    </tr>\n",
       "    <tr>\n",
       "      <th>1</th>\n",
       "      <td>1249</td>\n",
       "      <td>921</td>\n",
       "    </tr>\n",
       "  </tbody>\n",
       "</table>\n",
       "</div>"
      ],
      "text/plain": [
       "churn_Yes          0    1\n",
       "month_to_month           \n",
       "0               1648  125\n",
       "1               1249  921"
      ]
     },
     "execution_count": 14,
     "metadata": {},
     "output_type": "execute_result"
    }
   ],
   "source": [
    "#Set the significane level at 0.05\n",
    "#Monthly contracts: categorical\n",
    "#Churn: categorical\n",
    "#Chi square (categorial vs categorical\n",
    "α = 0.05\n",
    "observed = pd.crosstab(train.month_to_month, train.churn_Yes)\n",
    "observed"
   ]
  },
  {
   "cell_type": "code",
   "execution_count": 15,
   "id": "af3f2312-742d-4b33-a61e-808e1d0bf07c",
   "metadata": {},
   "outputs": [
    {
     "data": {
      "text/plain": [
       "(5.32454352599958e-138, 575.6581283286837)"
      ]
     },
     "execution_count": 15,
     "metadata": {},
     "output_type": "execute_result"
    }
   ],
   "source": [
    "chi2, p, degf, expected = stats.chi2_contingency(observed)\n",
    "p, expected[1,1]"
   ]
  },
  {
   "cell_type": "code",
   "execution_count": 16,
   "id": "14e4f846-9b90-4488-a3ab-76920ab93fe9",
   "metadata": {},
   "outputs": [
    {
     "name": "stdout",
     "output_type": "stream",
     "text": [
      "We reject the null Hypothesis\n"
     ]
    }
   ],
   "source": [
    "#Compare p value and alpha to see if we fail or reject our hypothesis \n",
    "if p < α:\n",
    "    print('We reject the null Hypothesis')\n",
    "else:\n",
    "    print(\"we fail to reject the null\")"
   ]
  },
  {
   "cell_type": "markdown",
   "id": "b2a76d72-7ed9-41c1-8702-4e371f752617",
   "metadata": {},
   "source": [
    "#### Take away: \n",
    "+ Month to month and churn were dependent, we would expect 575 customer churn, however it is acutally 921 \n",
    "+ Customers more likely to leave if they were in month to month contract since they are not in long term contract"
   ]
  },
  {
   "cell_type": "markdown",
   "id": "3bb4c18e-f52d-4af7-9e8d-c43b4d2d367e",
   "metadata": {},
   "source": [
    "#### Tenure"
   ]
  },
  {
   "cell_type": "markdown",
   "id": "27b647e9-adc8-41b4-ab43-e7e98d55a519",
   "metadata": {},
   "source": [
    "$H_o$: There is no difference in churn rate between customer with 1 month of tenure and the customers with longer tenure\n",
    "\n",
    "$H_a$: There is a difference in churn rate between customer with 1 month of tenure and the customers with longer tenure"
   ]
  },
  {
   "cell_type": "code",
   "execution_count": 17,
   "id": "f69d9813-adbe-4747-bba7-fd3e7806da2c",
   "metadata": {},
   "outputs": [
    {
     "data": {
      "text/plain": [
       "(82.37669227970096, 0.0)"
      ]
     },
     "execution_count": 17,
     "metadata": {},
     "output_type": "execute_result"
    }
   ],
   "source": [
    "#Set the significane level at 0.05\n",
    "#Tenure: Continous\n",
    "#Churn: categorical\n",
    "#One Sample T-test (categorial vs continous), 2-tailed test\n",
    "α = 0.05\n",
    "t, p = stats.ttest_1samp(train.tenure, train.churn_Yes.mean())\n",
    "t,p"
   ]
  },
  {
   "cell_type": "code",
   "execution_count": 18,
   "id": "0944d6ba-ba2a-46ba-bcdb-973fe7e1f163",
   "metadata": {},
   "outputs": [
    {
     "name": "stdout",
     "output_type": "stream",
     "text": [
      "We reject the null Hypothesis\n"
     ]
    }
   ],
   "source": [
    "#Compare p value and alpha to see if we fail or reject our hypothesis \n",
    "if p < α:\n",
    "    print('We reject the null Hypothesis')\n",
    "else:\n",
    "    print(\"we fail to reject the null\")"
   ]
  },
  {
   "cell_type": "markdown",
   "id": "4b1635d1-d118-4d29-9ae9-5068b411c620",
   "metadata": {},
   "source": [
    "#### Paperless-billing"
   ]
  },
  {
   "cell_type": "markdown",
   "id": "902a375b-67d4-480e-a45a-6da845e7f2ec",
   "metadata": {},
   "source": [
    "$H_o$: Paperless-billing and churn are independent of each other\n",
    "\n",
    "$H_a$: Paperless-billing and churn are not independent of each other"
   ]
  },
  {
   "cell_type": "code",
   "execution_count": 19,
   "id": "eeb20a3c-c268-45a0-a0d2-eca34723fee8",
   "metadata": {},
   "outputs": [
    {
     "data": {
      "text/html": [
       "<div>\n",
       "<style scoped>\n",
       "    .dataframe tbody tr th:only-of-type {\n",
       "        vertical-align: middle;\n",
       "    }\n",
       "\n",
       "    .dataframe tbody tr th {\n",
       "        vertical-align: top;\n",
       "    }\n",
       "\n",
       "    .dataframe thead th {\n",
       "        text-align: right;\n",
       "    }\n",
       "</style>\n",
       "<table border=\"1\" class=\"dataframe\">\n",
       "  <thead>\n",
       "    <tr style=\"text-align: right;\">\n",
       "      <th>churn_Yes</th>\n",
       "      <th>0</th>\n",
       "      <th>1</th>\n",
       "    </tr>\n",
       "    <tr>\n",
       "      <th>paperless_billing</th>\n",
       "      <th></th>\n",
       "      <th></th>\n",
       "    </tr>\n",
       "  </thead>\n",
       "  <tbody>\n",
       "    <tr>\n",
       "      <th>0</th>\n",
       "      <td>1335</td>\n",
       "      <td>263</td>\n",
       "    </tr>\n",
       "    <tr>\n",
       "      <th>1</th>\n",
       "      <td>1562</td>\n",
       "      <td>783</td>\n",
       "    </tr>\n",
       "  </tbody>\n",
       "</table>\n",
       "</div>"
      ],
      "text/plain": [
       "churn_Yes             0    1\n",
       "paperless_billing           \n",
       "0                  1335  263\n",
       "1                  1562  783"
      ]
     },
     "execution_count": 19,
     "metadata": {},
     "output_type": "execute_result"
    }
   ],
   "source": [
    "#Set the significane level at 0.05\n",
    "#Paperless-billing: categorical\n",
    "#Churn: categorical\n",
    "#Chi square (categorial vs categorical\n",
    "α = 0.05\n",
    "observed = pd.crosstab(train.paperless_billing, train.churn_Yes)\n",
    "observed"
   ]
  },
  {
   "cell_type": "code",
   "execution_count": 20,
   "id": "3bff3524-8b90-43bd-a98f-df4ae24aa544",
   "metadata": {},
   "outputs": [
    {
     "data": {
      "text/plain": [
       "(4.5700436817719314e-32, 622.0821709358356)"
      ]
     },
     "execution_count": 20,
     "metadata": {},
     "output_type": "execute_result"
    }
   ],
   "source": [
    "chi2, p, degf, expected = stats.chi2_contingency(observed)\n",
    "p, expected[1,1]"
   ]
  },
  {
   "cell_type": "code",
   "execution_count": 21,
   "id": "0b9fb3a9-b160-4ba4-a71e-84ac2c1f40c4",
   "metadata": {},
   "outputs": [
    {
     "name": "stdout",
     "output_type": "stream",
     "text": [
      "We reject the null Hypothesis\n"
     ]
    }
   ],
   "source": [
    "#Compare p value and alpha to see if we fail or reject our hypothesis \n",
    "if p < α:\n",
    "    print('We reject the null Hypothesis')\n",
    "else:\n",
    "    print(\"we fail to reject the null\")"
   ]
  },
  {
   "cell_type": "markdown",
   "id": "51007bc0-d5ba-40c9-b5ad-a93d5ce98005",
   "metadata": {},
   "source": [
    "#### Take away:\n",
    "+ Paperless billing and churn were dependent, we would expect 622 customer churn, however it is acutally 782\n",
    "+ Customer maybe have some inconvenient process  "
   ]
  },
  {
   "cell_type": "markdown",
   "id": "dc7b79cb-6b44-4bce-8c79-f0e095d73669",
   "metadata": {},
   "source": [
    "#### Electronic check"
   ]
  },
  {
   "cell_type": "markdown",
   "id": "55965049-0e18-4b0f-8ad0-7077a698193b",
   "metadata": {},
   "source": [
    "$H_o$: Customer paying with e-checks and churn are independent of each other\n",
    "\n",
    "$H_a$: Customer paying with e-checks and churn are dependent of each other."
   ]
  },
  {
   "cell_type": "code",
   "execution_count": 22,
   "id": "282832a0-3ce0-4a73-9520-c01924169de9",
   "metadata": {},
   "outputs": [
    {
     "data": {
      "text/html": [
       "<div>\n",
       "<style scoped>\n",
       "    .dataframe tbody tr th:only-of-type {\n",
       "        vertical-align: middle;\n",
       "    }\n",
       "\n",
       "    .dataframe tbody tr th {\n",
       "        vertical-align: top;\n",
       "    }\n",
       "\n",
       "    .dataframe thead th {\n",
       "        text-align: right;\n",
       "    }\n",
       "</style>\n",
       "<table border=\"1\" class=\"dataframe\">\n",
       "  <thead>\n",
       "    <tr style=\"text-align: right;\">\n",
       "      <th>churn_Yes</th>\n",
       "      <th>0</th>\n",
       "      <th>1</th>\n",
       "    </tr>\n",
       "    <tr>\n",
       "      <th>electronic_check</th>\n",
       "      <th></th>\n",
       "      <th></th>\n",
       "    </tr>\n",
       "  </thead>\n",
       "  <tbody>\n",
       "    <tr>\n",
       "      <th>0</th>\n",
       "      <td>2166</td>\n",
       "      <td>449</td>\n",
       "    </tr>\n",
       "    <tr>\n",
       "      <th>1</th>\n",
       "      <td>731</td>\n",
       "      <td>597</td>\n",
       "    </tr>\n",
       "  </tbody>\n",
       "</table>\n",
       "</div>"
      ],
      "text/plain": [
       "churn_Yes            0    1\n",
       "electronic_check           \n",
       "0                 2166  449\n",
       "1                  731  597"
      ]
     },
     "execution_count": 22,
     "metadata": {},
     "output_type": "execute_result"
    }
   ],
   "source": [
    "#Set the significane level at 0.05\n",
    "#Electronic check: categorical\n",
    "#Churn: categorical\n",
    "#Chi square (categorial vs categorical\n",
    "α = 0.05\n",
    "observed = pd.crosstab(train.electronic_check, train.churn_Yes)\n",
    "observed"
   ]
  },
  {
   "cell_type": "code",
   "execution_count": 23,
   "id": "bc6209a0-4b21-43aa-a3ec-3ce7aa3f85c8",
   "metadata": {},
   "outputs": [
    {
     "data": {
      "text/plain": [
       "(1.5484237807491145e-77, 352.29216332741566)"
      ]
     },
     "execution_count": 23,
     "metadata": {},
     "output_type": "execute_result"
    }
   ],
   "source": [
    "chi2, p, degf, expected = stats.chi2_contingency(observed)\n",
    "p, expected[1,1]"
   ]
  },
  {
   "cell_type": "code",
   "execution_count": 24,
   "id": "1b7ff7ad-829c-41b8-b18a-cbe9dd5b4667",
   "metadata": {},
   "outputs": [
    {
     "name": "stdout",
     "output_type": "stream",
     "text": [
      "We reject the null Hypothesis\n"
     ]
    }
   ],
   "source": [
    "#Compare p value and alpha to see if we fail or reject our hypothesis \n",
    "if p < α:\n",
    "    print('We reject the null Hypothesis')\n",
    "else:\n",
    "    print(\"we fail to reject the null\")"
   ]
  },
  {
   "cell_type": "markdown",
   "id": "b9cf541a-3939-4df7-a0f9-c00f1316f3e4",
   "metadata": {},
   "source": [
    "#### Take away:\n",
    "+ Electronic check and churn were dependent, we would expect 352 customer churn, however it is acutally 597"
   ]
  },
  {
   "cell_type": "markdown",
   "id": "a9711e58-b522-4a8c-bf22-a9386f8abb71",
   "metadata": {},
   "source": [
    "#### Fiber_optic"
   ]
  },
  {
   "cell_type": "markdown",
   "id": "eaf7886c-fb5a-4ea8-9831-b1b910e013cf",
   "metadata": {},
   "source": [
    "$H_o$: Customer paying with fiber optic and churn are independent of each other\n",
    "\n",
    "$H_a$: Customer paying with fiber optic and churn are dependent of each other."
   ]
  },
  {
   "cell_type": "code",
   "execution_count": 25,
   "id": "a9953b45-fc5a-4d5a-8af6-fb0fbe5919cf",
   "metadata": {},
   "outputs": [
    {
     "data": {
      "text/html": [
       "<div>\n",
       "<style scoped>\n",
       "    .dataframe tbody tr th:only-of-type {\n",
       "        vertical-align: middle;\n",
       "    }\n",
       "\n",
       "    .dataframe tbody tr th {\n",
       "        vertical-align: top;\n",
       "    }\n",
       "\n",
       "    .dataframe thead th {\n",
       "        text-align: right;\n",
       "    }\n",
       "</style>\n",
       "<table border=\"1\" class=\"dataframe\">\n",
       "  <thead>\n",
       "    <tr style=\"text-align: right;\">\n",
       "      <th>churn_Yes</th>\n",
       "      <th>0</th>\n",
       "      <th>1</th>\n",
       "    </tr>\n",
       "    <tr>\n",
       "      <th>fiber_optic</th>\n",
       "      <th></th>\n",
       "      <th></th>\n",
       "    </tr>\n",
       "  </thead>\n",
       "  <tbody>\n",
       "    <tr>\n",
       "      <th>0</th>\n",
       "      <td>1878</td>\n",
       "      <td>320</td>\n",
       "    </tr>\n",
       "    <tr>\n",
       "      <th>1</th>\n",
       "      <td>1019</td>\n",
       "      <td>726</td>\n",
       "    </tr>\n",
       "  </tbody>\n",
       "</table>\n",
       "</div>"
      ],
      "text/plain": [
       "churn_Yes       0    1\n",
       "fiber_optic           \n",
       "0            1878  320\n",
       "1            1019  726"
      ]
     },
     "execution_count": 25,
     "metadata": {},
     "output_type": "execute_result"
    }
   ],
   "source": [
    "#Set the significane level at 0.05\n",
    "#Electronic check: categorical\n",
    "#Churn: categorical\n",
    "#Chi square (categorial vs categorical\n",
    "α = 0.05\n",
    "observed = pd.crosstab(train.fiber_optic, train.churn_Yes)\n",
    "observed"
   ]
  },
  {
   "cell_type": "code",
   "execution_count": 26,
   "id": "552c0fe8-3f74-462a-835c-a5c3d37bbe8b",
   "metadata": {},
   "outputs": [
    {
     "data": {
      "text/plain": [
       "(4.447993420103704e-81, 462.91402485417194)"
      ]
     },
     "execution_count": 26,
     "metadata": {},
     "output_type": "execute_result"
    }
   ],
   "source": [
    "chi2, p, degf, expected = stats.chi2_contingency(observed)\n",
    "p,expected[1,1]"
   ]
  },
  {
   "cell_type": "code",
   "execution_count": 27,
   "id": "b8d8be85-7b71-42cc-a811-4d1ccfb59648",
   "metadata": {},
   "outputs": [
    {
     "name": "stdout",
     "output_type": "stream",
     "text": [
      "We reject the null Hypothesis\n"
     ]
    }
   ],
   "source": [
    "#Compare p value and alpha to see if we fail or reject our hypothesis \n",
    "if p < α:\n",
    "    print('We reject the null Hypothesis')\n",
    "else:\n",
    "    print(\"we fail to reject the null\")"
   ]
  },
  {
   "cell_type": "markdown",
   "id": "2fa7b322-d3d5-4e27-922f-31856102e757",
   "metadata": {},
   "source": [
    "#### Take away:\n",
    "+ Fiber optic and churn were dependent, we would expect 462 customer churn, however it is acutally 726\n",
    "+ If customers have fiber optic more likely to churn than dsl"
   ]
  },
  {
   "cell_type": "markdown",
   "id": "6fef1fbb-91fd-4f64-9256-3bd86dce014a",
   "metadata": {},
   "source": [
    "### Modeling"
   ]
  },
  {
   "cell_type": "markdown",
   "id": "ec0b1235-8fd6-419f-b011-63350a30d517",
   "metadata": {},
   "source": [
    "I am trying to predict the customers that will churn. The positive variable will be churn(1) in my following models.\n",
    "\n",
    "Possible Outcomes:\n",
    "\n",
    "+ TP: Predict churn and it is churn\n",
    "+ TN: Predict no churn and it is no churn\n",
    "+ FP: Predict churn but it is no churn\n",
    "+ FN: Predict no churn but it is churn"
   ]
  },
  {
   "cell_type": "code",
   "execution_count": 28,
   "id": "24659415-2cb3-465a-b821-64caf8f1aaf9",
   "metadata": {},
   "outputs": [],
   "source": [
    "#x_cols are the features I'm focusing on to predict whether a customer churns or not. \n",
    "#y_col is our target\n",
    "x_col = ['fiber_optic', 'electronic_check','tenure', 'paperless_billing', 'month_to_month']\n",
    "y_col = 'churn_Yes'"
   ]
  },
  {
   "cell_type": "code",
   "execution_count": 29,
   "id": "b1cd53ba-dcdf-49e0-9814-fe9b8f5c5af6",
   "metadata": {},
   "outputs": [],
   "source": [
    "#Splitting the data based on features above\n",
    "X_train, y_train = train[x_col], train[y_col]\n",
    "\n",
    "X_validate, y_validate = validate[x_col], validate[y_col]\n",
    "\n",
    "X_test, y_test = test[x_col], test[y_col]"
   ]
  },
  {
   "cell_type": "code",
   "execution_count": 30,
   "id": "957c32cd-4a8f-4d78-aead-abc345aaf5d8",
   "metadata": {},
   "outputs": [
    {
     "name": "stdout",
     "output_type": "stream",
     "text": [
      "The baseline accuracy for No Churn in all cases on the telco Dataset is 73.47%\n"
     ]
    }
   ],
   "source": [
    "# Baseline prediction is the most frequent value of churn\n",
    "# No churn(0)\n",
    "#Create the object\n",
    "baseline = DummyClassifier(strategy = 'constant', constant = 0)\n",
    "#Fit the object\n",
    "baseline.fit(X_train, y_train)\n",
    "print(f'The baseline accuracy for No Churn in all cases on the telco Dataset is {baseline.score(X_train, y_train):.2%}')"
   ]
  },
  {
   "cell_type": "markdown",
   "id": "1853b19d-8456-4e9b-9d0f-ce693f5514e7",
   "metadata": {},
   "source": [
    "### Model 1: Decision Tree"
   ]
  },
  {
   "cell_type": "code",
   "execution_count": 31,
   "id": "a1648720-7647-453f-becd-21ae6e17b880",
   "metadata": {},
   "outputs": [
    {
     "name": "stdout",
     "output_type": "stream",
     "text": [
      "training score: 78.85%\n",
      "validate score: 79.07%\n"
     ]
    }
   ],
   "source": [
    "# create the model\n",
    "d_tree= DecisionTreeClassifier(max_depth=3)\n",
    "# fit the model\n",
    "d_tree.fit(X_train, y_train)\n",
    "# make a prediction for for churn\n",
    "y_pred = d_tree.predict(X_train)\n",
    "# look at the model scores for training set and validate set\n",
    "print(f'training score: {d_tree.score(X_train, y_train):.2%}')\n",
    "print(f'validate score: {d_tree.score(X_validate, y_validate):.2%}')"
   ]
  },
  {
   "cell_type": "code",
   "execution_count": 32,
   "id": "2afdcc3c-ecb3-440a-bc7f-40bffefa8e3d",
   "metadata": {},
   "outputs": [
    {
     "name": "stdout",
     "output_type": "stream",
     "text": [
      "\n",
      "    The accuracy for our model is 78.849%\n",
      "    The True Positive Rate is 37.667%, The False Positive Rate is 6.282%,\n",
      "    The True Negative Rate is 93.718%, and the False Negative Rate is 62.333%\n",
      "    \n"
     ]
    },
    {
     "data": {
      "text/html": [
       "<div>\n",
       "<style scoped>\n",
       "    .dataframe tbody tr th:only-of-type {\n",
       "        vertical-align: middle;\n",
       "    }\n",
       "\n",
       "    .dataframe tbody tr th {\n",
       "        vertical-align: top;\n",
       "    }\n",
       "\n",
       "    .dataframe thead th {\n",
       "        text-align: right;\n",
       "    }\n",
       "</style>\n",
       "<table border=\"1\" class=\"dataframe\">\n",
       "  <thead>\n",
       "    <tr style=\"text-align: right;\">\n",
       "      <th></th>\n",
       "      <th>precision</th>\n",
       "      <th>recall</th>\n",
       "      <th>f1-score</th>\n",
       "      <th>support</th>\n",
       "    </tr>\n",
       "  </thead>\n",
       "  <tbody>\n",
       "    <tr>\n",
       "      <th>0</th>\n",
       "      <td>0.806356</td>\n",
       "      <td>0.937176</td>\n",
       "      <td>0.866858</td>\n",
       "      <td>2897.000000</td>\n",
       "    </tr>\n",
       "    <tr>\n",
       "      <th>1</th>\n",
       "      <td>0.684028</td>\n",
       "      <td>0.376673</td>\n",
       "      <td>0.485820</td>\n",
       "      <td>1046.000000</td>\n",
       "    </tr>\n",
       "    <tr>\n",
       "      <th>accuracy</th>\n",
       "      <td>0.788486</td>\n",
       "      <td>0.788486</td>\n",
       "      <td>0.788486</td>\n",
       "      <td>0.788486</td>\n",
       "    </tr>\n",
       "    <tr>\n",
       "      <th>macro avg</th>\n",
       "      <td>0.745192</td>\n",
       "      <td>0.656925</td>\n",
       "      <td>0.676339</td>\n",
       "      <td>3943.000000</td>\n",
       "    </tr>\n",
       "    <tr>\n",
       "      <th>weighted avg</th>\n",
       "      <td>0.773905</td>\n",
       "      <td>0.788486</td>\n",
       "      <td>0.765776</td>\n",
       "      <td>3943.000000</td>\n",
       "    </tr>\n",
       "  </tbody>\n",
       "</table>\n",
       "</div>"
      ],
      "text/plain": [
       "              precision    recall  f1-score      support\n",
       "0              0.806356  0.937176  0.866858  2897.000000\n",
       "1              0.684028  0.376673  0.485820  1046.000000\n",
       "accuracy       0.788486  0.788486  0.788486     0.788486\n",
       "macro avg      0.745192  0.656925  0.676339  3943.000000\n",
       "weighted avg   0.773905  0.788486  0.765776  3943.000000"
      ]
     },
     "execution_count": 32,
     "metadata": {},
     "output_type": "execute_result"
    }
   ],
   "source": [
    "#Classification report function from modeling\n",
    "modeling.get_metrics_binary(X_train, y_train, y_pred, d_tree)"
   ]
  },
  {
   "cell_type": "markdown",
   "id": "badb8919-0206-4d2c-9a9d-48799afbf0cb",
   "metadata": {},
   "source": [
    "### Model 2: Random Forest"
   ]
  },
  {
   "cell_type": "code",
   "execution_count": 33,
   "id": "ae456e89-4614-47ee-8007-74356001c14e",
   "metadata": {},
   "outputs": [
    {
     "name": "stdout",
     "output_type": "stream",
     "text": [
      "training score: 79.61%\n",
      "validate score: 79.95%\n"
     ]
    }
   ],
   "source": [
    "# create the Random Forest Model\n",
    "r_forest = RandomForestClassifier(min_samples_leaf=4, max_depth=4, random_state=1349)\n",
    "# fit the object\n",
    "r_forest.fit(X_train, y_train)\n",
    "# make a prediction for for churn\n",
    "y_pred = r_forest.predict(X_train)\n",
    "# look at the model scores for training set and validate set\n",
    "print(f'training score: {r_forest.score(X_train, y_train):.2%}')\n",
    "print(f'validate score: {r_forest.score(X_validate, y_validate):.2%}')"
   ]
  },
  {
   "cell_type": "code",
   "execution_count": 34,
   "id": "2203b973-c7c4-4d03-9c87-c7df9324235f",
   "metadata": {},
   "outputs": [
    {
     "name": "stdout",
     "output_type": "stream",
     "text": [
      "\n",
      "    The accuracy for our model is 79.609%\n",
      "    The True Positive Rate is 43.595%, The False Positive Rate is 7.387%,\n",
      "    The True Negative Rate is 92.613%, and the False Negative Rate is 56.405%\n",
      "    \n"
     ]
    },
    {
     "data": {
      "text/html": [
       "<div>\n",
       "<style scoped>\n",
       "    .dataframe tbody tr th:only-of-type {\n",
       "        vertical-align: middle;\n",
       "    }\n",
       "\n",
       "    .dataframe tbody tr th {\n",
       "        vertical-align: top;\n",
       "    }\n",
       "\n",
       "    .dataframe thead th {\n",
       "        text-align: right;\n",
       "    }\n",
       "</style>\n",
       "<table border=\"1\" class=\"dataframe\">\n",
       "  <thead>\n",
       "    <tr style=\"text-align: right;\">\n",
       "      <th></th>\n",
       "      <th>precision</th>\n",
       "      <th>recall</th>\n",
       "      <th>f1-score</th>\n",
       "      <th>support</th>\n",
       "    </tr>\n",
       "  </thead>\n",
       "  <tbody>\n",
       "    <tr>\n",
       "      <th>0</th>\n",
       "      <td>0.819737</td>\n",
       "      <td>0.926130</td>\n",
       "      <td>0.869692</td>\n",
       "      <td>2897.000000</td>\n",
       "    </tr>\n",
       "    <tr>\n",
       "      <th>1</th>\n",
       "      <td>0.680597</td>\n",
       "      <td>0.435946</td>\n",
       "      <td>0.531469</td>\n",
       "      <td>1046.000000</td>\n",
       "    </tr>\n",
       "    <tr>\n",
       "      <th>accuracy</th>\n",
       "      <td>0.796094</td>\n",
       "      <td>0.796094</td>\n",
       "      <td>0.796094</td>\n",
       "      <td>0.796094</td>\n",
       "    </tr>\n",
       "    <tr>\n",
       "      <th>macro avg</th>\n",
       "      <td>0.750167</td>\n",
       "      <td>0.681038</td>\n",
       "      <td>0.700580</td>\n",
       "      <td>3943.000000</td>\n",
       "    </tr>\n",
       "    <tr>\n",
       "      <th>weighted avg</th>\n",
       "      <td>0.782826</td>\n",
       "      <td>0.796094</td>\n",
       "      <td>0.779968</td>\n",
       "      <td>3943.000000</td>\n",
       "    </tr>\n",
       "  </tbody>\n",
       "</table>\n",
       "</div>"
      ],
      "text/plain": [
       "              precision    recall  f1-score      support\n",
       "0              0.819737  0.926130  0.869692  2897.000000\n",
       "1              0.680597  0.435946  0.531469  1046.000000\n",
       "accuracy       0.796094  0.796094  0.796094     0.796094\n",
       "macro avg      0.750167  0.681038  0.700580  3943.000000\n",
       "weighted avg   0.782826  0.796094  0.779968  3943.000000"
      ]
     },
     "execution_count": 34,
     "metadata": {},
     "output_type": "execute_result"
    }
   ],
   "source": [
    "modeling.get_metrics_binary(X_train, y_train, y_pred, r_forest)"
   ]
  },
  {
   "cell_type": "markdown",
   "id": "d12d502b-2e92-4f5d-8c30-9ea052110604",
   "metadata": {},
   "source": [
    "### Model 3: KNN"
   ]
  },
  {
   "cell_type": "code",
   "execution_count": 35,
   "id": "11f8c554-4d37-4974-9d63-0e3037c940bb",
   "metadata": {},
   "outputs": [
    {
     "name": "stdout",
     "output_type": "stream",
     "text": [
      "training score: 81.13%\n",
      "validate score: 76.46%\n"
     ]
    }
   ],
   "source": [
    "#create the object\n",
    "knn = KNeighborsClassifier(n_neighbors=5)\n",
    "#fit the object\n",
    "knn.fit(X_train, y_train)\n",
    "y_pred = knn.predict(X_train)\n",
    "print(f'training score: {knn.score(X_train, y_train):.2%}')\n",
    "print(f'validate score: {knn.score(X_validate, y_validate):.2%}')"
   ]
  },
  {
   "cell_type": "code",
   "execution_count": 36,
   "id": "a670bd76-1862-4b74-b015-4c5239496925",
   "metadata": {},
   "outputs": [
    {
     "name": "stdout",
     "output_type": "stream",
     "text": [
      "\n",
      "    The accuracy for our model is 81.131%\n",
      "    The True Positive Rate is 58.700%, The False Positive Rate is 10.770%,\n",
      "    The True Negative Rate is 89.230%, and the False Negative Rate is 41.300%\n",
      "    \n"
     ]
    },
    {
     "data": {
      "text/html": [
       "<div>\n",
       "<style scoped>\n",
       "    .dataframe tbody tr th:only-of-type {\n",
       "        vertical-align: middle;\n",
       "    }\n",
       "\n",
       "    .dataframe tbody tr th {\n",
       "        vertical-align: top;\n",
       "    }\n",
       "\n",
       "    .dataframe thead th {\n",
       "        text-align: right;\n",
       "    }\n",
       "</style>\n",
       "<table border=\"1\" class=\"dataframe\">\n",
       "  <thead>\n",
       "    <tr style=\"text-align: right;\">\n",
       "      <th></th>\n",
       "      <th>precision</th>\n",
       "      <th>recall</th>\n",
       "      <th>f1-score</th>\n",
       "      <th>support</th>\n",
       "    </tr>\n",
       "  </thead>\n",
       "  <tbody>\n",
       "    <tr>\n",
       "      <th>0</th>\n",
       "      <td>0.856811</td>\n",
       "      <td>0.892302</td>\n",
       "      <td>0.874197</td>\n",
       "      <td>2897.000000</td>\n",
       "    </tr>\n",
       "    <tr>\n",
       "      <th>1</th>\n",
       "      <td>0.663067</td>\n",
       "      <td>0.586998</td>\n",
       "      <td>0.622718</td>\n",
       "      <td>1046.000000</td>\n",
       "    </tr>\n",
       "    <tr>\n",
       "      <th>accuracy</th>\n",
       "      <td>0.811311</td>\n",
       "      <td>0.811311</td>\n",
       "      <td>0.811311</td>\n",
       "      <td>0.811311</td>\n",
       "    </tr>\n",
       "    <tr>\n",
       "      <th>macro avg</th>\n",
       "      <td>0.759939</td>\n",
       "      <td>0.739650</td>\n",
       "      <td>0.748457</td>\n",
       "      <td>3943.000000</td>\n",
       "    </tr>\n",
       "    <tr>\n",
       "      <th>weighted avg</th>\n",
       "      <td>0.805415</td>\n",
       "      <td>0.811311</td>\n",
       "      <td>0.807484</td>\n",
       "      <td>3943.000000</td>\n",
       "    </tr>\n",
       "  </tbody>\n",
       "</table>\n",
       "</div>"
      ],
      "text/plain": [
       "              precision    recall  f1-score      support\n",
       "0              0.856811  0.892302  0.874197  2897.000000\n",
       "1              0.663067  0.586998  0.622718  1046.000000\n",
       "accuracy       0.811311  0.811311  0.811311     0.811311\n",
       "macro avg      0.759939  0.739650  0.748457  3943.000000\n",
       "weighted avg   0.805415  0.811311  0.807484  3943.000000"
      ]
     },
     "execution_count": 36,
     "metadata": {},
     "output_type": "execute_result"
    }
   ],
   "source": [
    "modeling.get_metrics_binary(X_train, y_train, y_pred, knn)"
   ]
  },
  {
   "cell_type": "markdown",
   "id": "70b7a454-76ef-4707-a5cc-d044c1a206ef",
   "metadata": {},
   "source": [
    "### Model 4: Logistic Regression"
   ]
  },
  {
   "cell_type": "code",
   "execution_count": 37,
   "id": "07dffd76-5084-4822-9a2d-58ac306e8eb8",
   "metadata": {},
   "outputs": [
    {
     "name": "stdout",
     "output_type": "stream",
     "text": [
      "training score: 79.25%\n",
      "validate score: 78.59%\n"
     ]
    }
   ],
   "source": [
    "#Create the object\n",
    "logit = LogisticRegression(C= 1.0, random_state =123)\n",
    "#Fit the object\n",
    "logit.fit(X_train, y_train)\n",
    "# make a prediction for for churn\n",
    "y_pred = logit.predict(X_train)\n",
    "print(f'training score: {logit.score(X_train, y_train):.2%}')\n",
    "print(f'validate score: {logit.score(X_validate, y_validate):.2%}')"
   ]
  },
  {
   "cell_type": "code",
   "execution_count": 38,
   "id": "9f484247-632f-4485-a50d-c87b16d49d32",
   "metadata": {},
   "outputs": [
    {
     "name": "stdout",
     "output_type": "stream",
     "text": [
      "\n",
      "    The accuracy for our model is 79.254%\n",
      "    The True Positive Rate is 47.610%, The False Positive Rate is 9.320%,\n",
      "    The True Negative Rate is 90.680%, and the False Negative Rate is 52.390%\n",
      "    \n"
     ]
    },
    {
     "data": {
      "text/html": [
       "<div>\n",
       "<style scoped>\n",
       "    .dataframe tbody tr th:only-of-type {\n",
       "        vertical-align: middle;\n",
       "    }\n",
       "\n",
       "    .dataframe tbody tr th {\n",
       "        vertical-align: top;\n",
       "    }\n",
       "\n",
       "    .dataframe thead th {\n",
       "        text-align: right;\n",
       "    }\n",
       "</style>\n",
       "<table border=\"1\" class=\"dataframe\">\n",
       "  <thead>\n",
       "    <tr style=\"text-align: right;\">\n",
       "      <th></th>\n",
       "      <th>precision</th>\n",
       "      <th>recall</th>\n",
       "      <th>f1-score</th>\n",
       "      <th>support</th>\n",
       "    </tr>\n",
       "  </thead>\n",
       "  <tbody>\n",
       "    <tr>\n",
       "      <th>0</th>\n",
       "      <td>0.827402</td>\n",
       "      <td>0.906800</td>\n",
       "      <td>0.865283</td>\n",
       "      <td>2897.000000</td>\n",
       "    </tr>\n",
       "    <tr>\n",
       "      <th>1</th>\n",
       "      <td>0.648438</td>\n",
       "      <td>0.476099</td>\n",
       "      <td>0.549063</td>\n",
       "      <td>1046.000000</td>\n",
       "    </tr>\n",
       "    <tr>\n",
       "      <th>accuracy</th>\n",
       "      <td>0.792544</td>\n",
       "      <td>0.792544</td>\n",
       "      <td>0.792544</td>\n",
       "      <td>0.792544</td>\n",
       "    </tr>\n",
       "    <tr>\n",
       "      <th>macro avg</th>\n",
       "      <td>0.737920</td>\n",
       "      <td>0.691450</td>\n",
       "      <td>0.707173</td>\n",
       "      <td>3943.000000</td>\n",
       "    </tr>\n",
       "    <tr>\n",
       "      <th>weighted avg</th>\n",
       "      <td>0.779926</td>\n",
       "      <td>0.792544</td>\n",
       "      <td>0.781396</td>\n",
       "      <td>3943.000000</td>\n",
       "    </tr>\n",
       "  </tbody>\n",
       "</table>\n",
       "</div>"
      ],
      "text/plain": [
       "              precision    recall  f1-score      support\n",
       "0              0.827402  0.906800  0.865283  2897.000000\n",
       "1              0.648438  0.476099  0.549063  1046.000000\n",
       "accuracy       0.792544  0.792544  0.792544     0.792544\n",
       "macro avg      0.737920  0.691450  0.707173  3943.000000\n",
       "weighted avg   0.779926  0.792544  0.781396  3943.000000"
      ]
     },
     "execution_count": 38,
     "metadata": {},
     "output_type": "execute_result"
    }
   ],
   "source": [
    "modeling.get_metrics_binary(X_train, y_train, y_pred, logit)"
   ]
  },
  {
   "cell_type": "markdown",
   "id": "75d4e2a1-13ca-403d-ae7a-ee26cbdf281c",
   "metadata": {
    "tags": []
   },
   "source": [
    "### Take away:\n",
    "+ All of the model that created performed better than the baseline accuracy (73.47%). I selected the model that has least drop-off from train to validate\n",
    "+ The best model is logistic regression (79% accuracy)"
   ]
  },
  {
   "cell_type": "markdown",
   "id": "9e1264c5-a469-45b9-ad94-af37d2de38d5",
   "metadata": {},
   "source": [
    "### Test"
   ]
  },
  {
   "cell_type": "code",
   "execution_count": 52,
   "id": "9696f3c1-8449-4699-b66c-7d41aa53fb3f",
   "metadata": {},
   "outputs": [
    {
     "name": "stdout",
     "output_type": "stream",
     "text": [
      "              precision    recall  f1-score   support\n",
      "\n",
      "           0       0.85      0.91      0.88      1035\n",
      "           1       0.68      0.54      0.60       374\n",
      "\n",
      "    accuracy                           0.81      1409\n",
      "   macro avg       0.76      0.72      0.74      1409\n",
      "weighted avg       0.80      0.81      0.80      1409\n",
      "\n"
     ]
    }
   ],
   "source": [
    "#the actual results and the predicted results to make a classification report\n",
    "actual_test = y_test\n",
    "predicted_test = logit.predict(X_test)\n",
    "print(classification_report(actual_test, predicted_test))"
   ]
  },
  {
   "cell_type": "code",
   "execution_count": 53,
   "id": "2603052b-dc8e-4720-853b-b9dc40d13e15",
   "metadata": {},
   "outputs": [
    {
     "name": "stdout",
     "output_type": "stream",
     "text": [
      "training score: 79.25%\n",
      "validate score: 78.59%\n",
      "test score: 80.98%\n"
     ]
    }
   ],
   "source": [
    "#let's see the training, validate, and test score. All better than the baseline of 73.4%\n",
    "print(f'training score: {logit.score(X_train, y_train):.2%}')\n",
    "print(f'validate score: {logit.score(X_validate, y_validate):.2%}')\n",
    "print(f'test score: {logit.score(X_test, y_test):.2%}')"
   ]
  },
  {
   "cell_type": "markdown",
   "id": "c691fb91-6005-4050-978e-a7268bd174a7",
   "metadata": {},
   "source": [
    "### Predictions"
   ]
  },
  {
   "cell_type": "code",
   "execution_count": 41,
   "id": "49a23226-3185-412f-8639-f84544ebf2d7",
   "metadata": {},
   "outputs": [],
   "source": [
    "#Get the probability\n",
    "proba_test = logit.predict_proba(X_test)"
   ]
  },
  {
   "cell_type": "code",
   "execution_count": 42,
   "id": "3437c177-3742-4d29-81ea-ffafa1066931",
   "metadata": {},
   "outputs": [
    {
     "data": {
      "text/html": [
       "<div>\n",
       "<style scoped>\n",
       "    .dataframe tbody tr th:only-of-type {\n",
       "        vertical-align: middle;\n",
       "    }\n",
       "\n",
       "    .dataframe tbody tr th {\n",
       "        vertical-align: top;\n",
       "    }\n",
       "\n",
       "    .dataframe thead th {\n",
       "        text-align: right;\n",
       "    }\n",
       "</style>\n",
       "<table border=\"1\" class=\"dataframe\">\n",
       "  <thead>\n",
       "    <tr style=\"text-align: right;\">\n",
       "      <th></th>\n",
       "      <th>no_churn</th>\n",
       "      <th>churn_probability</th>\n",
       "    </tr>\n",
       "  </thead>\n",
       "  <tbody>\n",
       "    <tr>\n",
       "      <th>0</th>\n",
       "      <td>0.868418</td>\n",
       "      <td>0.131582</td>\n",
       "    </tr>\n",
       "    <tr>\n",
       "      <th>1</th>\n",
       "      <td>0.982800</td>\n",
       "      <td>0.017200</td>\n",
       "    </tr>\n",
       "    <tr>\n",
       "      <th>2</th>\n",
       "      <td>0.346241</td>\n",
       "      <td>0.653759</td>\n",
       "    </tr>\n",
       "    <tr>\n",
       "      <th>3</th>\n",
       "      <td>0.395900</td>\n",
       "      <td>0.604100</td>\n",
       "    </tr>\n",
       "    <tr>\n",
       "      <th>4</th>\n",
       "      <td>0.256994</td>\n",
       "      <td>0.743006</td>\n",
       "    </tr>\n",
       "  </tbody>\n",
       "</table>\n",
       "</div>"
      ],
      "text/plain": [
       "   no_churn  churn_probability\n",
       "0  0.868418           0.131582\n",
       "1  0.982800           0.017200\n",
       "2  0.346241           0.653759\n",
       "3  0.395900           0.604100\n",
       "4  0.256994           0.743006"
      ]
     },
     "execution_count": 42,
     "metadata": {},
     "output_type": "execute_result"
    }
   ],
   "source": [
    "#Put the probability in a data\n",
    "proba_df = pd.DataFrame(proba_test, columns = ['no_churn','churn_probability'])\n",
    "proba_df.head()"
   ]
  },
  {
   "cell_type": "code",
   "execution_count": 43,
   "id": "834f53ac-b34b-45a7-ad44-74f77875431d",
   "metadata": {},
   "outputs": [],
   "source": [
    "#Drop a column since we dont need probability that customers is no churn\n",
    "proba_df.drop(columns= 'no_churn',inplace =True)"
   ]
  },
  {
   "cell_type": "code",
   "execution_count": 44,
   "id": "70decc1c-93c6-4e4c-bc10-d712ca295c3d",
   "metadata": {},
   "outputs": [
    {
     "data": {
      "text/html": [
       "<div>\n",
       "<style scoped>\n",
       "    .dataframe tbody tr th:only-of-type {\n",
       "        vertical-align: middle;\n",
       "    }\n",
       "\n",
       "    .dataframe tbody tr th {\n",
       "        vertical-align: top;\n",
       "    }\n",
       "\n",
       "    .dataframe thead th {\n",
       "        text-align: right;\n",
       "    }\n",
       "</style>\n",
       "<table border=\"1\" class=\"dataframe\">\n",
       "  <thead>\n",
       "    <tr style=\"text-align: right;\">\n",
       "      <th></th>\n",
       "      <th>churn_probability</th>\n",
       "    </tr>\n",
       "  </thead>\n",
       "  <tbody>\n",
       "    <tr>\n",
       "      <th>0</th>\n",
       "      <td>0.131582</td>\n",
       "    </tr>\n",
       "    <tr>\n",
       "      <th>1</th>\n",
       "      <td>0.017200</td>\n",
       "    </tr>\n",
       "    <tr>\n",
       "      <th>2</th>\n",
       "      <td>0.653759</td>\n",
       "    </tr>\n",
       "    <tr>\n",
       "      <th>3</th>\n",
       "      <td>0.604100</td>\n",
       "    </tr>\n",
       "    <tr>\n",
       "      <th>4</th>\n",
       "      <td>0.743006</td>\n",
       "    </tr>\n",
       "  </tbody>\n",
       "</table>\n",
       "</div>"
      ],
      "text/plain": [
       "   churn_probability\n",
       "0           0.131582\n",
       "1           0.017200\n",
       "2           0.653759\n",
       "3           0.604100\n",
       "4           0.743006"
      ]
     },
     "execution_count": 44,
     "metadata": {},
     "output_type": "execute_result"
    }
   ],
   "source": [
    "proba_df.head()"
   ]
  },
  {
   "cell_type": "code",
   "execution_count": 45,
   "id": "ff7170b8-2b91-4e36-8e03-be47692de968",
   "metadata": {},
   "outputs": [],
   "source": [
    "#Calculate the prediction\n",
    "predict = logit.predict(X_test)"
   ]
  },
  {
   "cell_type": "code",
   "execution_count": 46,
   "id": "74ef1f7d-eecf-43f8-ab36-3a6c7e19ba12",
   "metadata": {},
   "outputs": [],
   "source": [
    "#Reset the index to concat with the dataframe above(proba_df)\n",
    "cust_id = test['customer_id'].reset_index()"
   ]
  },
  {
   "cell_type": "code",
   "execution_count": 47,
   "id": "da796583-2d3c-47fe-8312-b1d4c97bc356",
   "metadata": {},
   "outputs": [],
   "source": [
    "#Dropping the 'index' column \n",
    "cust_id.drop(columns='index', inplace=True)"
   ]
  },
  {
   "cell_type": "code",
   "execution_count": 48,
   "id": "853ee234-4168-4129-9f24-3d7b2bda5daf",
   "metadata": {},
   "outputs": [
    {
     "data": {
      "text/html": [
       "<div>\n",
       "<style scoped>\n",
       "    .dataframe tbody tr th:only-of-type {\n",
       "        vertical-align: middle;\n",
       "    }\n",
       "\n",
       "    .dataframe tbody tr th {\n",
       "        vertical-align: top;\n",
       "    }\n",
       "\n",
       "    .dataframe thead th {\n",
       "        text-align: right;\n",
       "    }\n",
       "</style>\n",
       "<table border=\"1\" class=\"dataframe\">\n",
       "  <thead>\n",
       "    <tr style=\"text-align: right;\">\n",
       "      <th></th>\n",
       "      <th>customer_id</th>\n",
       "      <th>churn_probability</th>\n",
       "    </tr>\n",
       "  </thead>\n",
       "  <tbody>\n",
       "    <tr>\n",
       "      <th>0</th>\n",
       "      <td>4531-AUZNK</td>\n",
       "      <td>0.131582</td>\n",
       "    </tr>\n",
       "    <tr>\n",
       "      <th>1</th>\n",
       "      <td>2296-DKZFP</td>\n",
       "      <td>0.017200</td>\n",
       "    </tr>\n",
       "    <tr>\n",
       "      <th>2</th>\n",
       "      <td>9692-TUSXH</td>\n",
       "      <td>0.653759</td>\n",
       "    </tr>\n",
       "    <tr>\n",
       "      <th>3</th>\n",
       "      <td>5129-JLPIS</td>\n",
       "      <td>0.604100</td>\n",
       "    </tr>\n",
       "    <tr>\n",
       "      <th>4</th>\n",
       "      <td>1273-MTETI</td>\n",
       "      <td>0.743006</td>\n",
       "    </tr>\n",
       "  </tbody>\n",
       "</table>\n",
       "</div>"
      ],
      "text/plain": [
       "  customer_id  churn_probability\n",
       "0  4531-AUZNK           0.131582\n",
       "1  2296-DKZFP           0.017200\n",
       "2  9692-TUSXH           0.653759\n",
       "3  5129-JLPIS           0.604100\n",
       "4  1273-MTETI           0.743006"
      ]
     },
     "execution_count": 48,
     "metadata": {},
     "output_type": "execute_result"
    }
   ],
   "source": [
    "#Concat the two dataframe together\n",
    "test_proba_df = pd.concat([cust_id, proba_df], axis=1)\n",
    "test_proba_df.head()"
   ]
  },
  {
   "cell_type": "code",
   "execution_count": 49,
   "id": "6868334f-660f-4aa6-9f22-55e453bef43b",
   "metadata": {},
   "outputs": [],
   "source": [
    "#Create a new column in dataframe that we just joined (test_proba_df)\n",
    "#Add prediction in the new column\n",
    "test_proba_df['churn_predicted'] = predict"
   ]
  },
  {
   "cell_type": "code",
   "execution_count": 50,
   "id": "e234407a-9914-4e2d-848a-9f6b14315465",
   "metadata": {},
   "outputs": [
    {
     "data": {
      "text/html": [
       "<div>\n",
       "<style scoped>\n",
       "    .dataframe tbody tr th:only-of-type {\n",
       "        vertical-align: middle;\n",
       "    }\n",
       "\n",
       "    .dataframe tbody tr th {\n",
       "        vertical-align: top;\n",
       "    }\n",
       "\n",
       "    .dataframe thead th {\n",
       "        text-align: right;\n",
       "    }\n",
       "</style>\n",
       "<table border=\"1\" class=\"dataframe\">\n",
       "  <thead>\n",
       "    <tr style=\"text-align: right;\">\n",
       "      <th></th>\n",
       "      <th>customer_id</th>\n",
       "      <th>churn_probability</th>\n",
       "      <th>churn_predicted</th>\n",
       "    </tr>\n",
       "  </thead>\n",
       "  <tbody>\n",
       "    <tr>\n",
       "      <th>1313</th>\n",
       "      <td>8982-NHAVY</td>\n",
       "      <td>0.239273</td>\n",
       "      <td>0</td>\n",
       "    </tr>\n",
       "    <tr>\n",
       "      <th>707</th>\n",
       "      <td>8780-IXSTS</td>\n",
       "      <td>0.731214</td>\n",
       "      <td>1</td>\n",
       "    </tr>\n",
       "    <tr>\n",
       "      <th>1335</th>\n",
       "      <td>6791-YBNAK</td>\n",
       "      <td>0.165863</td>\n",
       "      <td>0</td>\n",
       "    </tr>\n",
       "    <tr>\n",
       "      <th>521</th>\n",
       "      <td>2968-SSGAA</td>\n",
       "      <td>0.706627</td>\n",
       "      <td>1</td>\n",
       "    </tr>\n",
       "    <tr>\n",
       "      <th>1109</th>\n",
       "      <td>4338-EYCER</td>\n",
       "      <td>0.153614</td>\n",
       "      <td>0</td>\n",
       "    </tr>\n",
       "  </tbody>\n",
       "</table>\n",
       "</div>"
      ],
      "text/plain": [
       "     customer_id  churn_probability  churn_predicted\n",
       "1313  8982-NHAVY           0.239273                0\n",
       "707   8780-IXSTS           0.731214                1\n",
       "1335  6791-YBNAK           0.165863                0\n",
       "521   2968-SSGAA           0.706627                1\n",
       "1109  4338-EYCER           0.153614                0"
      ]
     },
     "execution_count": 50,
     "metadata": {},
     "output_type": "execute_result"
    }
   ],
   "source": [
    "test_proba_df.sample(5)"
   ]
  },
  {
   "cell_type": "code",
   "execution_count": 51,
   "id": "2e378fdb-cd4c-4644-a777-9f02fabc5592",
   "metadata": {},
   "outputs": [],
   "source": [
    "#To csv file\n",
    "test_proba_df.to_csv('telco_predictions.csv')"
   ]
  },
  {
   "cell_type": "markdown",
   "id": "d6d890f8-b3df-4fc7-9de4-1ef69079518a",
   "metadata": {},
   "source": [
    "### Summary:"
   ]
  },
  {
   "cell_type": "markdown",
   "id": "5e526952-5907-4a10-927c-23c4bec63196",
   "metadata": {},
   "source": [
    "#### Key Takeaway:"
   ]
  },
  {
   "cell_type": "markdown",
   "id": "d07b7c05-1f16-4b9f-82c7-16b541df4eef",
   "metadata": {},
   "source": [
    "Best Feature to predict churn are:\n",
    "- Month to month contract\n",
    "- Fiber optic\n",
    "- Electronic check \n",
    "- Paperless billing \n",
    "- Tenure"
   ]
  },
  {
   "cell_type": "markdown",
   "id": "4ccc3887-2e62-4344-bdcd-1c5c74ad859a",
   "metadata": {},
   "source": [
    "I choose logistic regression as my best model, because it has 79% accuracy and it wasnt overfit"
   ]
  },
  {
   "cell_type": "markdown",
   "id": "d868a100-bec8-4f18-9584-d592f19290e4",
   "metadata": {},
   "source": [
    "#### Recommendation: "
   ]
  },
  {
   "cell_type": "markdown",
   "id": "15a76c7c-5ed6-4a17-b903-6a263dd3d800",
   "metadata": {},
   "source": [
    "+ Look into fiber optic program \n",
    "+ Make a better impression to month to month contract customers"
   ]
  },
  {
   "cell_type": "markdown",
   "id": "24af9418-c6db-4264-b0ee-7d60bffe8f11",
   "metadata": {},
   "source": [
    "#### Next Step:"
   ]
  },
  {
   "cell_type": "markdown",
   "id": "c1a9c12a-f119-460e-a65b-3a3b8f9a9230",
   "metadata": {},
   "source": [
    "+ Adjust the hyperparameters, add more features \n",
    "+ Check why customer with fiber optic are canceled more than dsl\n",
    "+ Conduct a research for the recommendations"
   ]
  }
 ],
 "metadata": {
  "kernelspec": {
   "display_name": "Python 3 (ipykernel)",
   "language": "python",
   "name": "python3"
  },
  "language_info": {
   "codemirror_mode": {
    "name": "ipython",
    "version": 3
   },
   "file_extension": ".py",
   "mimetype": "text/x-python",
   "name": "python",
   "nbconvert_exporter": "python",
   "pygments_lexer": "ipython3",
   "version": "3.9.7"
  }
 },
 "nbformat": 4,
 "nbformat_minor": 5
}
